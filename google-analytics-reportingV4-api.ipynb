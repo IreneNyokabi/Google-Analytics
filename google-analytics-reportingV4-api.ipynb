{
 "cells": [
  {
   "cell_type": "markdown",
   "id": "ddee83c7",
   "metadata": {},
   "source": [
    "# Google Analytics API - Python"
   ]
  },
  {
   "cell_type": "markdown",
   "id": "1559ffc7",
   "metadata": {},
   "source": [
    "# Install Packages"
   ]
  },
  {
   "cell_type": "code",
   "execution_count": null,
   "id": "8f51e50b",
   "metadata": {},
   "outputs": [],
   "source": [
    "#Load Libraries\n",
    "from oauth2client.service_account import ServiceAccountCredentials\n",
    "from googleapiclient.discovery import build\n",
    "import httplib2\n",
    "import pandas as pd\n",
    "#Packages needed for connecting with Google API\n",
    "from googleapiclient.discovery import build as google_build #An example with all the statements together\n",
    "import google.oauth2.credentials #Importing a sub-package\n",
    "from google_auth_httplib2 import AuthorizedHttp\n",
    "import sqlalchemy"
   ]
  },
  {
   "cell_type": "markdown",
   "id": "438c0b91",
   "metadata": {},
   "source": [
    "# Create a service object"
   ]
  },
  {
   "cell_type": "code",
   "execution_count": null,
   "id": "c988f4f4",
   "metadata": {},
   "outputs": [],
   "source": [
    "#Rename your JSON key to client_secrets.json and save it to your working folder\n",
    "##Get service_account_GS.JSON from your console project (\"https://console.cloud.google.com/\")\n",
    "credentials = ServiceAccountCredentials.from_json_keyfile_name('service_account_GS.json', ['https://www.googleapis.com/auth/analytics.readonly'])\n",
    "  \n",
    "#Create a service object\n",
    "http = credentials.authorize(httplib2.Http())\n",
    "service = build('analytics', 'v4', http=http, discoveryServiceUrl=('https://analyticsreporting.googleapis.com/$discovery/rest'))\n",
    "\n",
    "#Authorize client\n",
    "authorized = AuthorizedHttp(credentials=credentials)"
   ]
  },
  {
   "cell_type": "markdown",
   "id": "d00ca726",
   "metadata": {},
   "source": [
    "# Set pagePath Filter"
   ]
  },
  {
   "cell_type": "code",
   "execution_count": null,
   "id": "b19a0616",
   "metadata": {},
   "outputs": [],
   "source": [
    "# regex='~^/stiri/.*'   ##add any regex you'd want here "
   ]
  },
  {
   "cell_type": "markdown",
   "id": "afb8a0b2",
   "metadata": {},
   "source": [
    "# Make an api-call to Google Analytics"
   ]
  },
  {
   "cell_type": "code",
   "execution_count": null,
   "id": "5d41d6d0",
   "metadata": {},
   "outputs": [],
   "source": [
    "response = service.reports().batchGet(\n",
    "    body={\n",
    "        'reportRequests': [\n",
    "            {\n",
    "                'viewId': {'add-your-google-analytics-view-id-here'},\n",
    "                'dateRanges': [{'startDate': {'enter-startdate-here in YY-MM0DD'}, 'endDate': 'enter-enddate-here in YY-MM0DD],\n",
    "                'metrics': [{'expression': 'ga:entrances'}],  ##add metrics you'd want here\n",
    "                'dimensions': [{'name': 'ga:date'},{\"name\": \"ga:source\"},{\"name\":\"ga:landingPagePath\"},{\"name\":\"ga:pageTitle\"}],   ##add dimensions you'd want here\n",
    "#                 \"filtersExpression\":f\"ga:landingPagePath={regex}\",\n",
    "                'orderBys': [{\"fieldName\": \"ga:date\", \"sortOrder\": \"DESCENDING\"}],\n",
    "                'pageSize': 100000\n",
    "            }]\n",
    "    }\n",
    ").execute()\n",
    "\n",
    "response"
   ]
  },
  {
   "cell_type": "markdown",
   "id": "a8a7c62f",
   "metadata": {},
   "source": [
    "# Parsing The Report Data"
   ]
  },
  {
   "cell_type": "code",
   "execution_count": null,
   "id": "a7fde9bc",
   "metadata": {},
   "outputs": [],
   "source": [
    "##response above is heavily nested, you need to parse to get the data you'd be looking for\n",
    "def prase_response(report):\n",
    "\n",
    "    \"\"\"Parses and prints the Analytics Reporting API V4 response\"\"\"\n",
    "    #Initialize results, in list format because two dataframes might return\n",
    "    result_list = []\n",
    "\n",
    "    #Initialize empty data container for the two dateranges (if there are two that is)\n",
    "    data_csv = []\n",
    "    data_csv2 = []\n",
    "\n",
    "    #Initialize header rows\n",
    "    header_row = []\n",
    "\n",
    "    #Get column headers, metric headers, and dimension headers.\n",
    "    columnHeader = report.get('columnHeader', {})\n",
    "    metricHeaders = columnHeader.get('metricHeader', {}).get('metricHeaderEntries', [])\n",
    "    dimensionHeaders = columnHeader.get('dimensions', [])\n",
    "\n",
    "    #Combine all of those headers into the header_row, which is in a list format\n",
    "    for dheader in dimensionHeaders:\n",
    "        header_row.append(dheader)\n",
    "    for mheader in metricHeaders:\n",
    "        header_row.append(mheader['name'])\n",
    "\n",
    "    #Get data from each of the rows, and append them into a list\n",
    "    rows = report.get('data', {}).get('rows', [])\n",
    "    for row in rows:\n",
    "        row_temp = []\n",
    "        dimensions = row.get('dimensions', [])\n",
    "        metrics = row.get('metrics', [])\n",
    "        for d in dimensions:\n",
    "            row_temp.append(d)\n",
    "        for m in metrics[0]['values']:\n",
    "            row_temp.append(m)\n",
    "        data_csv.append(row_temp)\n",
    "\n",
    "        #In case of a second date range, do the same thing for the second request\n",
    "        if len(metrics) == 2:\n",
    "            row_temp2 = []\n",
    "            for d in dimensions:\n",
    "                row_temp2.append(d)\n",
    "            for m in metrics[1]['values']:\n",
    "                row_temp2.append(m)\n",
    "            data_csv2.append(row_temp2)\n",
    "\n",
    "    #Putting those list formats into pandas dataframe, and append them into the final result\n",
    "    result_df = pd.DataFrame(data_csv, columns=header_row)\n",
    "    result_list.append(result_df)\n",
    "    if data_csv2 != []:\n",
    "        result_list.append(pd.DataFrame(data_csv2, columns=header_row))\n",
    "\n",
    "    return result_list"
   ]
  },
  {
   "cell_type": "markdown",
   "id": "71c40d5c",
   "metadata": {},
   "source": [
    "# Create a DataFrame With Your Data"
   ]
  },
  {
   "cell_type": "code",
   "execution_count": null,
   "id": "43fcb5e7",
   "metadata": {},
   "outputs": [],
   "source": [
    "response_data = response.get('reports', [])[0]\n",
    "print(prase_response(response_data)[0])"
   ]
  },
  {
   "cell_type": "code",
   "execution_count": null,
   "id": "f8aed202",
   "metadata": {},
   "outputs": [],
   "source": [
    "## transform response-date to a dataframe that you can manipulate\n",
    "report=pd.DataFrame(prase_response(response_data)[0])\n",
    "report"
   ]
  },
  {
   "cell_type": "code",
   "execution_count": null,
   "id": "f1e2de5c",
   "metadata": {},
   "outputs": [],
   "source": [
    "## save your response to a csv called 'report.csv'. This is automatic, you don't have to have a CSV by this name, if you do,caution, data in it will be re-written. \n",
    "df = report.to_csv('report.csv')"
   ]
  }
 ],
 "metadata": {
  "kernelspec": {
   "display_name": "Python 3",
   "language": "python",
   "name": "python3"
  },
  "language_info": {
   "codemirror_mode": {
    "name": "ipython",
    "version": 3
   },
   "file_extension": ".py",
   "mimetype": "text/x-python",
   "name": "python",
   "nbconvert_exporter": "python",
   "pygments_lexer": "ipython3",
   "version": "3.8.8"
  }
 },
 "nbformat": 4,
 "nbformat_minor": 5
}
